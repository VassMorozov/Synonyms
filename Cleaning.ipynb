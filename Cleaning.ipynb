{
 "cells": [
  {
   "cell_type": "code",
   "execution_count": 21,
   "metadata": {},
   "outputs": [],
   "source": [
    "import networkx as nx\n",
    "import pandas as pd\n",
    "import numpy as np\n",
    "import re\n",
    "import seaborn as sns\n",
    "import collections\n",
    "import community\n",
    "import matplotlib.pyplot as plt\n",
    "from matplotlib.colors import ListedColormap\n",
    "from nltk.corpus import wordnet\n",
    "from nltk.stem import PorterStemmer\n",
    "from wordcloud import WordCloud, STOPWORDS\n",
    "from collections import Counter\n",
    "from nltk.corpus import wordnet as wn"
   ]
  },
  {
   "cell_type": "code",
   "execution_count": 22,
   "metadata": {},
   "outputs": [
    {
     "data": {
      "text/html": [
       "<style>.container { width:100% !important; }</style>"
      ],
      "text/plain": [
       "<IPython.core.display.HTML object>"
      ]
     },
     "metadata": {},
     "output_type": "display_data"
    }
   ],
   "source": [
    "from IPython.core.display import display, HTML\n",
    "display(HTML(\"<style>.container { width:100% !important; }</style>\"))"
   ]
  },
  {
   "cell_type": "code",
   "execution_count": 25,
   "metadata": {},
   "outputs": [],
   "source": [
    "edges_raw = pd.read_csv(\"edges.csv\")"
   ]
  },
  {
   "cell_type": "code",
   "execution_count": 26,
   "metadata": {
    "scrolled": true
   },
   "outputs": [],
   "source": [
    "# filter out obvious stop words such as \"have\" \"and\"\n",
    "no_stopwords = edges_raw[(edges_raw[\"Source\"].apply(lambda x: x in list(STOPWORDS)) == False)&(edges_raw[\"Target\"].apply(lambda x: x in list(STOPWORDS))==False)]"
   ]
  },
  {
   "cell_type": "code",
   "execution_count": 27,
   "metadata": {},
   "outputs": [],
   "source": [
    "th_rows = [f\"{i}th\" for i in range(1000)]\n",
    "rd_rows = [f\"{i}rd\" for i in range(1000)]\n",
    "nd_rows = [f\"{i}nd\" for i in range(1000)]\n",
    "st_rows = [f\"{i}st\" for i in range(1000)] \n",
    "number_rows = [f\"number {i}\" for i in range(1000)]\n",
    "years_rows = [f\"{i}s\" for i in range(0,2021,10)]\n",
    "days_rows = [f\"{i+1} days\" for i in range(366)]\n",
    "final_rows = [\"24-hour\",\"-karat\"]\n",
    "\n",
    "final_rows.extend(th_rows)\n",
    "final_rows.extend(number_rows)\n",
    "final_rows.extend(rd_rows)\n",
    "final_rows.extend(nd_rows)\n",
    "final_rows.extend(st_rows)\n",
    "\n",
    "additional_filter = no_stopwords[(no_stopwords[\"Source\"].str.contains('|'.join(final_rows)) == False)&(no_stopwords[\"Target\"].str.contains('|'.join(final_rows)) == False)]"
   ]
  },
  {
   "cell_type": "code",
   "execution_count": 28,
   "metadata": {},
   "outputs": [
    {
     "data": {
      "text/plain": [
       "(117438, 2)"
      ]
     },
     "execution_count": 28,
     "metadata": {},
     "output_type": "execute_result"
    }
   ],
   "source": [
    "additional_filter.shape"
   ]
  },
  {
   "cell_type": "code",
   "execution_count": 29,
   "metadata": {},
   "outputs": [
    {
     "data": {
      "text/plain": [
       "(117812, 2)"
      ]
     },
     "execution_count": 29,
     "metadata": {},
     "output_type": "execute_result"
    }
   ],
   "source": [
    "no_stopwords.shape"
   ]
  },
  {
   "cell_type": "code",
   "execution_count": 15,
   "metadata": {},
   "outputs": [
    {
     "data": {
      "text/plain": [
       "(164915, 2)"
      ]
     },
     "execution_count": 15,
     "metadata": {},
     "output_type": "execute_result"
    }
   ],
   "source": [
    "edges_raw.shape"
   ]
  },
  {
   "cell_type": "code",
   "execution_count": 19,
   "metadata": {},
   "outputs": [
    {
     "name": "stderr",
     "output_type": "stream",
     "text": [
      "C:\\Users\\Vass\\Anaconda3\\lib\\site-packages\\ipykernel_launcher.py:2: SettingWithCopyWarning: \n",
      "A value is trying to be set on a copy of a slice from a DataFrame.\n",
      "Try using .loc[row_indexer,col_indexer] = value instead\n",
      "\n",
      "See the caveats in the documentation: http://pandas.pydata.org/pandas-docs/stable/user_guide/indexing.html#returning-a-view-versus-a-copy\n",
      "  \n"
     ]
    }
   ],
   "source": [
    "ps = PorterStemmer()\n",
    "additional_filter[\"stemmed\"] = additional_filter[\"Source\"].apply(lambda w: ps.stem(w))"
   ]
  },
  {
   "cell_type": "code",
   "execution_count": 30,
   "metadata": {},
   "outputs": [
    {
     "data": {
      "text/html": [
       "<div>\n",
       "<style scoped>\n",
       "    .dataframe tbody tr th:only-of-type {\n",
       "        vertical-align: middle;\n",
       "    }\n",
       "\n",
       "    .dataframe tbody tr th {\n",
       "        vertical-align: top;\n",
       "    }\n",
       "\n",
       "    .dataframe thead th {\n",
       "        text-align: right;\n",
       "    }\n",
       "</style>\n",
       "<table border=\"1\" class=\"dataframe\">\n",
       "  <thead>\n",
       "    <tr style=\"text-align: right;\">\n",
       "      <th></th>\n",
       "      <th>Source</th>\n",
       "      <th>Target</th>\n",
       "    </tr>\n",
       "  </thead>\n",
       "  <tbody>\n",
       "    <tr>\n",
       "      <td>0</td>\n",
       "      <td>.22-caliber</td>\n",
       "      <td>.22-calibre</td>\n",
       "    </tr>\n",
       "    <tr>\n",
       "      <td>1</td>\n",
       "      <td>.22-caliber</td>\n",
       "      <td>.22 caliber</td>\n",
       "    </tr>\n",
       "    <tr>\n",
       "      <td>2</td>\n",
       "      <td>.22-caliber</td>\n",
       "      <td>.22 calibre</td>\n",
       "    </tr>\n",
       "    <tr>\n",
       "      <td>3</td>\n",
       "      <td>.22-calibre</td>\n",
       "      <td>.22 caliber</td>\n",
       "    </tr>\n",
       "    <tr>\n",
       "      <td>4</td>\n",
       "      <td>.22-calibre</td>\n",
       "      <td>.22 calibre</td>\n",
       "    </tr>\n",
       "    <tr>\n",
       "      <td>...</td>\n",
       "      <td>...</td>\n",
       "      <td>...</td>\n",
       "    </tr>\n",
       "    <tr>\n",
       "      <td>118391</td>\n",
       "      <td>yaup</td>\n",
       "      <td>howling</td>\n",
       "    </tr>\n",
       "    <tr>\n",
       "      <td>118392</td>\n",
       "      <td>yaup</td>\n",
       "      <td>roaring</td>\n",
       "    </tr>\n",
       "    <tr>\n",
       "      <td>118393</td>\n",
       "      <td>yaup</td>\n",
       "      <td>wailing</td>\n",
       "    </tr>\n",
       "    <tr>\n",
       "      <td>118394</td>\n",
       "      <td>yawp</td>\n",
       "      <td>grizzled</td>\n",
       "    </tr>\n",
       "    <tr>\n",
       "      <td>118395</td>\n",
       "      <td>yawp</td>\n",
       "      <td>bawling</td>\n",
       "    </tr>\n",
       "  </tbody>\n",
       "</table>\n",
       "<p>117438 rows × 2 columns</p>\n",
       "</div>"
      ],
      "text/plain": [
       "             Source       Target\n",
       "0       .22-caliber  .22-calibre\n",
       "1       .22-caliber  .22 caliber\n",
       "2       .22-caliber  .22 calibre\n",
       "3       .22-calibre  .22 caliber\n",
       "4       .22-calibre  .22 calibre\n",
       "...             ...          ...\n",
       "118391         yaup      howling\n",
       "118392         yaup      roaring\n",
       "118393         yaup      wailing\n",
       "118394         yawp     grizzled\n",
       "118395         yawp      bawling\n",
       "\n",
       "[117438 rows x 2 columns]"
      ]
     },
     "execution_count": 30,
     "metadata": {},
     "output_type": "execute_result"
    }
   ],
   "source": [
    "additional_filter"
   ]
  },
  {
   "cell_type": "code",
   "execution_count": 31,
   "metadata": {},
   "outputs": [],
   "source": [
    "additional_filter.to_csv(\"no_stopwords.csv\")"
   ]
  },
  {
   "cell_type": "code",
   "execution_count": 5,
   "metadata": {},
   "outputs": [],
   "source": [
    "synonyms = []\n",
    "antonyms = []\n",
    "\n",
    "for syn in wordnet.synsets(\"good\"): \n",
    "    for l in syn.lemmas(): \n",
    "        synonyms.append(l.name()) \n",
    "        if l.antonyms(): \n",
    "            antonyms.append(l.antonyms()[0].name()) "
   ]
  },
  {
   "cell_type": "code",
   "execution_count": 6,
   "metadata": {},
   "outputs": [
    {
     "data": {
      "text/plain": [
       "['evil', 'evilness', 'bad', 'badness', 'bad', 'evil', 'ill']"
      ]
     },
     "execution_count": 6,
     "metadata": {},
     "output_type": "execute_result"
    }
   ],
   "source": [
    "antonyms"
   ]
  },
  {
   "cell_type": "code",
   "execution_count": null,
   "metadata": {},
   "outputs": [],
   "source": []
  }
 ],
 "metadata": {
  "kernelspec": {
   "display_name": "Python 3",
   "language": "python",
   "name": "python3"
  },
  "language_info": {
   "codemirror_mode": {
    "name": "ipython",
    "version": 3
   },
   "file_extension": ".py",
   "mimetype": "text/x-python",
   "name": "python",
   "nbconvert_exporter": "python",
   "pygments_lexer": "ipython3",
   "version": "3.7.4"
  }
 },
 "nbformat": 4,
 "nbformat_minor": 2
}
