{
 "cells": [
  {
   "cell_type": "code",
   "execution_count": 1,
   "metadata": {},
   "outputs": [
    {
     "name": "stderr",
     "output_type": "stream",
     "text": [
      "C:\\Users\\Vass\\Anaconda3\\lib\\site-packages\\statsmodels\\tools\\_testing.py:19: FutureWarning: pandas.util.testing is deprecated. Use the functions in the public API at pandas.testing instead.\n",
      "  import pandas.util.testing as tm\n",
      "C:\\Users\\Vass\\Anaconda3\\lib\\site-packages\\sklearn\\feature_extraction\\image.py:167: DeprecationWarning: `np.int` is a deprecated alias for the builtin `int`. To silence this warning, use `int` by itself. Doing this will not modify any behavior and is safe. When replacing `np.int`, you may wish to use e.g. `np.int64` or `np.int32` to specify the precision. If you wish to review your current use, check the release note link for additional information.\n",
      "Deprecated in NumPy 1.20; for more details and guidance: https://numpy.org/devdocs/release/1.20.0-notes.html#deprecations\n",
      "  dtype=np.int):\n",
      "C:\\Users\\Vass\\Anaconda3\\lib\\site-packages\\sklearn\\linear_model\\least_angle.py:30: DeprecationWarning: `np.float` is a deprecated alias for the builtin `float`. To silence this warning, use `float` by itself. Doing this will not modify any behavior and is safe. If you specifically wanted the numpy scalar type, use `np.float64` here.\n",
      "Deprecated in NumPy 1.20; for more details and guidance: https://numpy.org/devdocs/release/1.20.0-notes.html#deprecations\n",
      "  method='lar', copy_X=True, eps=np.finfo(np.float).eps,\n",
      "C:\\Users\\Vass\\Anaconda3\\lib\\site-packages\\sklearn\\linear_model\\least_angle.py:167: DeprecationWarning: `np.float` is a deprecated alias for the builtin `float`. To silence this warning, use `float` by itself. Doing this will not modify any behavior and is safe. If you specifically wanted the numpy scalar type, use `np.float64` here.\n",
      "Deprecated in NumPy 1.20; for more details and guidance: https://numpy.org/devdocs/release/1.20.0-notes.html#deprecations\n",
      "  method='lar', copy_X=True, eps=np.finfo(np.float).eps,\n",
      "C:\\Users\\Vass\\Anaconda3\\lib\\site-packages\\sklearn\\linear_model\\least_angle.py:284: DeprecationWarning: `np.float` is a deprecated alias for the builtin `float`. To silence this warning, use `float` by itself. Doing this will not modify any behavior and is safe. If you specifically wanted the numpy scalar type, use `np.float64` here.\n",
      "Deprecated in NumPy 1.20; for more details and guidance: https://numpy.org/devdocs/release/1.20.0-notes.html#deprecations\n",
      "  eps=np.finfo(np.float).eps, copy_Gram=True, verbose=0,\n",
      "C:\\Users\\Vass\\Anaconda3\\lib\\site-packages\\sklearn\\linear_model\\least_angle.py:862: DeprecationWarning: `np.float` is a deprecated alias for the builtin `float`. To silence this warning, use `float` by itself. Doing this will not modify any behavior and is safe. If you specifically wanted the numpy scalar type, use `np.float64` here.\n",
      "Deprecated in NumPy 1.20; for more details and guidance: https://numpy.org/devdocs/release/1.20.0-notes.html#deprecations\n",
      "  eps=np.finfo(np.float).eps, copy_X=True, fit_path=True,\n",
      "C:\\Users\\Vass\\Anaconda3\\lib\\site-packages\\sklearn\\linear_model\\least_angle.py:1101: DeprecationWarning: `np.float` is a deprecated alias for the builtin `float`. To silence this warning, use `float` by itself. Doing this will not modify any behavior and is safe. If you specifically wanted the numpy scalar type, use `np.float64` here.\n",
      "Deprecated in NumPy 1.20; for more details and guidance: https://numpy.org/devdocs/release/1.20.0-notes.html#deprecations\n",
      "  eps=np.finfo(np.float).eps, copy_X=True, fit_path=True,\n",
      "C:\\Users\\Vass\\Anaconda3\\lib\\site-packages\\sklearn\\linear_model\\least_angle.py:1127: DeprecationWarning: `np.float` is a deprecated alias for the builtin `float`. To silence this warning, use `float` by itself. Doing this will not modify any behavior and is safe. If you specifically wanted the numpy scalar type, use `np.float64` here.\n",
      "Deprecated in NumPy 1.20; for more details and guidance: https://numpy.org/devdocs/release/1.20.0-notes.html#deprecations\n",
      "  eps=np.finfo(np.float).eps, positive=False):\n",
      "C:\\Users\\Vass\\Anaconda3\\lib\\site-packages\\sklearn\\linear_model\\least_angle.py:1362: DeprecationWarning: `np.float` is a deprecated alias for the builtin `float`. To silence this warning, use `float` by itself. Doing this will not modify any behavior and is safe. If you specifically wanted the numpy scalar type, use `np.float64` here.\n",
      "Deprecated in NumPy 1.20; for more details and guidance: https://numpy.org/devdocs/release/1.20.0-notes.html#deprecations\n",
      "  max_n_alphas=1000, n_jobs=None, eps=np.finfo(np.float).eps,\n",
      "C:\\Users\\Vass\\Anaconda3\\lib\\site-packages\\sklearn\\linear_model\\least_angle.py:1602: DeprecationWarning: `np.float` is a deprecated alias for the builtin `float`. To silence this warning, use `float` by itself. Doing this will not modify any behavior and is safe. If you specifically wanted the numpy scalar type, use `np.float64` here.\n",
      "Deprecated in NumPy 1.20; for more details and guidance: https://numpy.org/devdocs/release/1.20.0-notes.html#deprecations\n",
      "  max_n_alphas=1000, n_jobs=None, eps=np.finfo(np.float).eps,\n",
      "C:\\Users\\Vass\\Anaconda3\\lib\\site-packages\\sklearn\\linear_model\\least_angle.py:1738: DeprecationWarning: `np.float` is a deprecated alias for the builtin `float`. To silence this warning, use `float` by itself. Doing this will not modify any behavior and is safe. If you specifically wanted the numpy scalar type, use `np.float64` here.\n",
      "Deprecated in NumPy 1.20; for more details and guidance: https://numpy.org/devdocs/release/1.20.0-notes.html#deprecations\n",
      "  eps=np.finfo(np.float).eps, copy_X=True, positive=False):\n"
     ]
    },
    {
     "data": {
      "text/html": [
       "<style>.container { width:100% !important; }</style>"
      ],
      "text/plain": [
       "<IPython.core.display.HTML object>"
      ]
     },
     "metadata": {},
     "output_type": "display_data"
    }
   ],
   "source": [
    "import networkx as nx\n",
    "import pandas as pd\n",
    "import numpy as np\n",
    "import re\n",
    "import seaborn as sns\n",
    "import word2number\n",
    "import matplotlib.pyplot as plt\n",
    "from matplotlib.colors import ListedColormap\n",
    "from nltk.corpus import wordnet as wn\n",
    "from word2number import w2n\n",
    "from wordcloud import WordCloud, STOPWORDS\n",
    "from nltk.stem import PorterStemmer\n",
    "from nltk.corpus import stopwords #<- For calling the know stopwords in english (e.g, articles, connectors)\n",
    "from IPython.core.display import display, HTML\n",
    "display(HTML(\"<style>.container { width:100% !important; }</style>\"))"
   ]
  },
  {
   "cell_type": "code",
   "execution_count": 4,
   "metadata": {},
   "outputs": [
    {
     "data": {
      "text/html": [
       "<div>\n",
       "<style scoped>\n",
       "    .dataframe tbody tr th:only-of-type {\n",
       "        vertical-align: middle;\n",
       "    }\n",
       "\n",
       "    .dataframe tbody tr th {\n",
       "        vertical-align: top;\n",
       "    }\n",
       "\n",
       "    .dataframe thead th {\n",
       "        text-align: right;\n",
       "    }\n",
       "</style>\n",
       "<table border=\"1\" class=\"dataframe\">\n",
       "  <thead>\n",
       "    <tr style=\"text-align: right;\">\n",
       "      <th></th>\n",
       "      <th>lemma</th>\n",
       "      <th>part_of_speech</th>\n",
       "      <th>synonyms</th>\n",
       "    </tr>\n",
       "  </thead>\n",
       "  <tbody>\n",
       "    <tr>\n",
       "      <th>0</th>\n",
       "      <td>.22-caliber</td>\n",
       "      <td>adjective</td>\n",
       "      <td>.22 caliber;.22 calibre;.22-calibre</td>\n",
       "    </tr>\n",
       "    <tr>\n",
       "      <th>1</th>\n",
       "      <td>.22-calibre</td>\n",
       "      <td>adjective</td>\n",
       "      <td>.22 caliber;.22-caliber;.22 calibre</td>\n",
       "    </tr>\n",
       "    <tr>\n",
       "      <th>2</th>\n",
       "      <td>.22 caliber</td>\n",
       "      <td>adjective</td>\n",
       "      <td>.22-caliber;.22 calibre;.22-calibre</td>\n",
       "    </tr>\n",
       "    <tr>\n",
       "      <th>3</th>\n",
       "      <td>.22 calibre</td>\n",
       "      <td>adjective</td>\n",
       "      <td>.22 caliber;.22-caliber;.22-calibre</td>\n",
       "    </tr>\n",
       "    <tr>\n",
       "      <th>4</th>\n",
       "      <td>.38-caliber</td>\n",
       "      <td>adjective</td>\n",
       "      <td>.38 caliber;.38 calibre;.38-calibre</td>\n",
       "    </tr>\n",
       "  </tbody>\n",
       "</table>\n",
       "</div>"
      ],
      "text/plain": [
       "         lemma part_of_speech                             synonyms\n",
       "0  .22-caliber      adjective  .22 caliber;.22 calibre;.22-calibre\n",
       "1  .22-calibre      adjective  .22 caliber;.22-caliber;.22 calibre\n",
       "2  .22 caliber      adjective  .22-caliber;.22 calibre;.22-calibre\n",
       "3  .22 calibre      adjective  .22 caliber;.22-caliber;.22-calibre\n",
       "4  .38-caliber      adjective  .38 caliber;.38 calibre;.38-calibre"
      ]
     },
     "execution_count": 4,
     "metadata": {},
     "output_type": "execute_result"
    }
   ],
   "source": [
    "df = pd.read_csv(\"synonyms.csv\")\n",
    "\n",
    "df.head()"
   ]
  },
  {
   "cell_type": "code",
   "execution_count": 32,
   "metadata": {},
   "outputs": [],
   "source": [
    "def numbers(x):\n",
    "    try:\n",
    "        return w2n.word_to_num(x)\n",
    "    except (ValueError, TypeError, IndexError):\n",
    "        return np.nan"
   ]
  },
  {
   "cell_type": "code",
   "execution_count": 42,
   "metadata": {},
   "outputs": [],
   "source": [
    "df[\"number\"] = df[\"lemma\"].apply(lambda x: numbers(x))"
   ]
  },
  {
   "cell_type": "code",
   "execution_count": 96,
   "metadata": {},
   "outputs": [
    {
     "data": {
      "text/plain": [
       "(117204,)"
      ]
     },
     "execution_count": 96,
     "metadata": {},
     "output_type": "execute_result"
    }
   ],
   "source": [
    "df[\"lemma\"].unique().shape"
   ]
  },
  {
   "cell_type": "code",
   "execution_count": 97,
   "metadata": {},
   "outputs": [],
   "source": [
    "th_rows = [f\"{i}th\" for i in range(1000)]\n",
    "rd_rows = [f\"{i}rd\" for i in range(1000)]\n",
    "nd_rows = [f\"{i}nd\" for i in range(1000)]\n",
    "st_rows = [f\"{i}st\" for i in range(1000)] \n",
    "number_rows = [f\"number {i}\" for i in range(1000)]\n",
    "years_rows = [f\"{i}s\" for i in range(0,2021,10)]\n",
    "days_rows = [f\"{i+1} days\" for i in range(366)]\n",
    "final_rows = [\"24-hour\",\"-karat\"]\n",
    "\n",
    "final_rows.extend(th_rows)\n",
    "final_rows.extend(number_rows)\n",
    "final_rows.extend(rd_rows)\n",
    "final_rows.extend(nd_rows)\n",
    "final_rows.extend(st_rows)"
   ]
  },
  {
   "cell_type": "code",
   "execution_count": 99,
   "metadata": {},
   "outputs": [],
   "source": [
    "no_numbers = df[(df[\"lemma\"].str.isnumeric() == False)&(df[\"number\"].isna() == True)&(df[\"lemma\"].str.contains('|'.join(final_rows)) == False)]"
   ]
  },
  {
   "cell_type": "code",
   "execution_count": 101,
   "metadata": {},
   "outputs": [
    {
     "data": {
      "text/plain": [
       "(116285,)"
      ]
     },
     "execution_count": 101,
     "metadata": {},
     "output_type": "execute_result"
    }
   ],
   "source": [
    "no_numbers[\"lemma\"].unique().shape"
   ]
  },
  {
   "cell_type": "code",
   "execution_count": 102,
   "metadata": {},
   "outputs": [
    {
     "name": "stderr",
     "output_type": "stream",
     "text": [
      "C:\\Users\\Vass\\Anaconda3\\lib\\site-packages\\ipykernel_launcher.py:2: SettingWithCopyWarning: \n",
      "A value is trying to be set on a copy of a slice from a DataFrame.\n",
      "Try using .loc[row_indexer,col_indexer] = value instead\n",
      "\n",
      "See the caveats in the documentation: http://pandas.pydata.org/pandas-docs/stable/user_guide/indexing.html#returning-a-view-versus-a-copy\n",
      "  \n"
     ]
    }
   ],
   "source": [
    "ps = PorterStemmer()\n",
    "no_numbers[\"stemmed\"] = no_numbers[\"lemma\"].apply(lambda w: ps.stem(w) if isinstance(w, str) else None)"
   ]
  },
  {
   "cell_type": "code",
   "execution_count": 103,
   "metadata": {},
   "outputs": [
    {
     "data": {
      "text/plain": [
       "(10754, 5)"
      ]
     },
     "execution_count": 103,
     "metadata": {},
     "output_type": "execute_result"
    }
   ],
   "source": [
    "no_numbers[no_numbers.duplicated(subset=[\"stemmed\",\"part_of_speech\"]) == True].shape"
   ]
  },
  {
   "cell_type": "code",
   "execution_count": 104,
   "metadata": {},
   "outputs": [
    {
     "data": {
      "text/plain": [
       "(9199,)"
      ]
     },
     "execution_count": 104,
     "metadata": {},
     "output_type": "execute_result"
    }
   ],
   "source": [
    "no_numbers[no_numbers.duplicated(subset=[\"stemmed\",\"part_of_speech\"]) == True][\"lemma\"].unique().shape"
   ]
  },
  {
   "cell_type": "code",
   "execution_count": 105,
   "metadata": {
    "scrolled": true
   },
   "outputs": [],
   "source": [
    "remove_stemming = no_numbers[no_numbers.duplicated(subset=[\"stemmed\",\"part_of_speech\"]) == False]"
   ]
  },
  {
   "cell_type": "code",
   "execution_count": 106,
   "metadata": {},
   "outputs": [
    {
     "data": {
      "text/plain": [
       "(108495,)"
      ]
     },
     "execution_count": 106,
     "metadata": {},
     "output_type": "execute_result"
    }
   ],
   "source": [
    "remove_stemming[\"lemma\"].unique().shape"
   ]
  },
  {
   "cell_type": "code",
   "execution_count": 107,
   "metadata": {},
   "outputs": [
    {
     "name": "stderr",
     "output_type": "stream",
     "text": [
      "C:\\Users\\Vass\\Anaconda3\\lib\\site-packages\\ipykernel_launcher.py:1: SettingWithCopyWarning: \n",
      "A value is trying to be set on a copy of a slice from a DataFrame.\n",
      "Try using .loc[row_indexer,col_indexer] = value instead\n",
      "\n",
      "See the caveats in the documentation: http://pandas.pydata.org/pandas-docs/stable/user_guide/indexing.html#returning-a-view-versus-a-copy\n",
      "  \"\"\"Entry point for launching an IPython kernel.\n"
     ]
    }
   ],
   "source": [
    "remove_stemming[\"split\"] = remove_stemming[\"synonyms\"].str.replace(\"|\",\";\").apply(lambda x: x.split(\";\") if isinstance(x, str) else None)"
   ]
  },
  {
   "cell_type": "markdown",
   "metadata": {},
   "source": [
    "Need to pair up words that are synonyms."
   ]
  },
  {
   "cell_type": "code",
   "execution_count": 108,
   "metadata": {},
   "outputs": [
    {
     "data": {
      "text/plain": [
       "(115228, 6)"
      ]
     },
     "execution_count": 108,
     "metadata": {},
     "output_type": "execute_result"
    }
   ],
   "source": [
    "remove_stemming.shape"
   ]
  },
  {
   "cell_type": "code",
   "execution_count": 109,
   "metadata": {},
   "outputs": [],
   "source": [
    "stops = stopwords.words('english')"
   ]
  },
  {
   "cell_type": "code",
   "execution_count": 110,
   "metadata": {},
   "outputs": [],
   "source": [
    "# filter out obvious stop words such as \"have\" \"and\"\n",
    "no_stops = remove_stemming[remove_stemming[\"lemma\"].apply(lambda x: (x in list(STOPWORDS) or x in stops))==False]"
   ]
  },
  {
   "cell_type": "code",
   "execution_count": 111,
   "metadata": {},
   "outputs": [
    {
     "data": {
      "text/plain": [
       "(108411,)"
      ]
     },
     "execution_count": 111,
     "metadata": {},
     "output_type": "execute_result"
    }
   ],
   "source": [
    "no_stops[\"lemma\"].unique().shape"
   ]
  },
  {
   "cell_type": "code",
   "execution_count": 112,
   "metadata": {},
   "outputs": [],
   "source": [
    "with_syns = no_stops[no_stops[\"synonyms\"].isna() ==False]"
   ]
  },
  {
   "cell_type": "code",
   "execution_count": 113,
   "metadata": {},
   "outputs": [
    {
     "data": {
      "text/plain": [
       "(108410,)"
      ]
     },
     "execution_count": 113,
     "metadata": {},
     "output_type": "execute_result"
    }
   ],
   "source": [
    "with_syns[\"lemma\"].unique().shape"
   ]
  },
  {
   "cell_type": "code",
   "execution_count": 93,
   "metadata": {},
   "outputs": [
    {
     "data": {
      "text/html": [
       "<div>\n",
       "<style scoped>\n",
       "    .dataframe tbody tr th:only-of-type {\n",
       "        vertical-align: middle;\n",
       "    }\n",
       "\n",
       "    .dataframe tbody tr th {\n",
       "        vertical-align: top;\n",
       "    }\n",
       "\n",
       "    .dataframe thead th {\n",
       "        text-align: right;\n",
       "    }\n",
       "</style>\n",
       "<table border=\"1\" class=\"dataframe\">\n",
       "  <thead>\n",
       "    <tr style=\"text-align: right;\">\n",
       "      <th></th>\n",
       "      <th>lemma</th>\n",
       "      <th>part_of_speech</th>\n",
       "      <th>synonyms</th>\n",
       "      <th>number</th>\n",
       "      <th>stemmed</th>\n",
       "      <th>split</th>\n",
       "    </tr>\n",
       "  </thead>\n",
       "  <tbody>\n",
       "    <tr>\n",
       "      <td>2464</td>\n",
       "      <td>big</td>\n",
       "      <td>satellite</td>\n",
       "      <td>bad|large;prominent|heavy|boastful;braggart;br...</td>\n",
       "      <td>NaN</td>\n",
       "      <td>big</td>\n",
       "      <td>[bad, large, prominent, heavy, boastful, bragg...</td>\n",
       "    </tr>\n",
       "    <tr>\n",
       "      <td>2470</td>\n",
       "      <td>bigger</td>\n",
       "      <td>satellite</td>\n",
       "      <td>larger|big|bad;big|big|big;large;prominent|big...</td>\n",
       "      <td>NaN</td>\n",
       "      <td>bigger</td>\n",
       "      <td>[larger, big, bad, big, big, big, large, promi...</td>\n",
       "    </tr>\n",
       "    <tr>\n",
       "      <td>5370</td>\n",
       "      <td>defective</td>\n",
       "      <td>satellite</td>\n",
       "      <td>faulty|bad</td>\n",
       "      <td>NaN</td>\n",
       "      <td>defect</td>\n",
       "      <td>[faulty, bad]</td>\n",
       "    </tr>\n",
       "    <tr>\n",
       "      <td>7907</td>\n",
       "      <td>forged</td>\n",
       "      <td>satellite</td>\n",
       "      <td>bad</td>\n",
       "      <td>NaN</td>\n",
       "      <td>forg</td>\n",
       "      <td>[bad]</td>\n",
       "    </tr>\n",
       "    <tr>\n",
       "      <td>9202</td>\n",
       "      <td>high-risk</td>\n",
       "      <td>satellite</td>\n",
       "      <td>bad;risky;speculative</td>\n",
       "      <td>NaN</td>\n",
       "      <td>high-risk</td>\n",
       "      <td>[bad, risky, speculative]</td>\n",
       "    </tr>\n",
       "    <tr>\n",
       "      <td>15667</td>\n",
       "      <td>regretful</td>\n",
       "      <td>adjective</td>\n",
       "      <td>sorry;bad</td>\n",
       "      <td>NaN</td>\n",
       "      <td>regret</td>\n",
       "      <td>[sorry, bad]</td>\n",
       "    </tr>\n",
       "    <tr>\n",
       "      <td>16014</td>\n",
       "      <td>risky</td>\n",
       "      <td>satellite</td>\n",
       "      <td>hazardous;wild|bad;high-risk;speculative</td>\n",
       "      <td>NaN</td>\n",
       "      <td>riski</td>\n",
       "      <td>[hazardous, wild, bad, high-risk, speculative]</td>\n",
       "    </tr>\n",
       "    <tr>\n",
       "      <td>17645</td>\n",
       "      <td>sorry</td>\n",
       "      <td>adjective</td>\n",
       "      <td>regretful;bad</td>\n",
       "      <td>NaN</td>\n",
       "      <td>sorri</td>\n",
       "      <td>[regretful, bad]</td>\n",
       "    </tr>\n",
       "    <tr>\n",
       "      <td>17781</td>\n",
       "      <td>speculative</td>\n",
       "      <td>satellite</td>\n",
       "      <td>bad;risky;high-risk|notional|inquisitive;quest...</td>\n",
       "      <td>NaN</td>\n",
       "      <td>specul</td>\n",
       "      <td>[bad, risky, high-risk, notional, inquisitive,...</td>\n",
       "    </tr>\n",
       "    <tr>\n",
       "      <td>17875</td>\n",
       "      <td>spoiled</td>\n",
       "      <td>satellite</td>\n",
       "      <td>spoilt|bad;spoilt</td>\n",
       "      <td>NaN</td>\n",
       "      <td>spoil</td>\n",
       "      <td>[spoilt, bad, spoilt]</td>\n",
       "    </tr>\n",
       "    <tr>\n",
       "      <td>17877</td>\n",
       "      <td>spoilt</td>\n",
       "      <td>satellite</td>\n",
       "      <td>spoiled|bad;spoiled|blighted</td>\n",
       "      <td>NaN</td>\n",
       "      <td>spoilt</td>\n",
       "      <td>[spoiled, bad, spoiled, blighted]</td>\n",
       "    </tr>\n",
       "    <tr>\n",
       "      <td>19407</td>\n",
       "      <td>tough</td>\n",
       "      <td>satellite</td>\n",
       "      <td>rugged|sturdy|ruffianly|bad|hard|baffling;elus...</td>\n",
       "      <td>NaN</td>\n",
       "      <td>tough</td>\n",
       "      <td>[rugged, sturdy, ruffianly, bad, hard, bafflin...</td>\n",
       "    </tr>\n",
       "    <tr>\n",
       "      <td>20012</td>\n",
       "      <td>uncollectible</td>\n",
       "      <td>satellite</td>\n",
       "      <td>bad</td>\n",
       "      <td>NaN</td>\n",
       "      <td>uncollect</td>\n",
       "      <td>[bad]</td>\n",
       "    </tr>\n",
       "    <tr>\n",
       "      <td>20297</td>\n",
       "      <td>unfit</td>\n",
       "      <td>satellite</td>\n",
       "      <td>bad;unsound</td>\n",
       "      <td>NaN</td>\n",
       "      <td>unfit</td>\n",
       "      <td>[bad, unsound]</td>\n",
       "    </tr>\n",
       "    <tr>\n",
       "      <td>20839</td>\n",
       "      <td>unsound</td>\n",
       "      <td>satellite</td>\n",
       "      <td>fallacious|mentally ill;unstable|bad;unfit</td>\n",
       "      <td>NaN</td>\n",
       "      <td>unsound</td>\n",
       "      <td>[fallacious, mentally ill, unstable, bad, unfit]</td>\n",
       "    </tr>\n",
       "    <tr>\n",
       "      <td>21916</td>\n",
       "      <td>worse</td>\n",
       "      <td>adjective</td>\n",
       "      <td>worsened|bad|regretful;sorry;bad</td>\n",
       "      <td>NaN</td>\n",
       "      <td>wors</td>\n",
       "      <td>[worsened, bad, regretful, sorry, bad]</td>\n",
       "    </tr>\n",
       "    <tr>\n",
       "      <td>21917</td>\n",
       "      <td>worse</td>\n",
       "      <td>satellite</td>\n",
       "      <td>bad;big|bad;tough|bad;spoiled;spoilt|bad;uncol...</td>\n",
       "      <td>NaN</td>\n",
       "      <td>wors</td>\n",
       "      <td>[bad, big, bad, tough, bad, spoiled, spoilt, b...</td>\n",
       "    </tr>\n",
       "    <tr>\n",
       "      <td>21926</td>\n",
       "      <td>worst</td>\n",
       "      <td>adjective</td>\n",
       "      <td>bad|regretful;sorry;bad</td>\n",
       "      <td>NaN</td>\n",
       "      <td>worst</td>\n",
       "      <td>[bad, regretful, sorry, bad]</td>\n",
       "    </tr>\n",
       "    <tr>\n",
       "      <td>21927</td>\n",
       "      <td>worst</td>\n",
       "      <td>satellite</td>\n",
       "      <td>bad;big|bad;tough|bad;spoiled;spoilt|bad;uncol...</td>\n",
       "      <td>NaN</td>\n",
       "      <td>worst</td>\n",
       "      <td>[bad, big, bad, tough, bad, spoiled, spoilt, b...</td>\n",
       "    </tr>\n",
       "    <tr>\n",
       "      <td>22375</td>\n",
       "      <td>badly</td>\n",
       "      <td>adverb</td>\n",
       "      <td>severely;gravely;seriously|ill;poorly|mischiev...</td>\n",
       "      <td>NaN</td>\n",
       "      <td>badli</td>\n",
       "      <td>[severely, gravely, seriously, ill, poorly, mi...</td>\n",
       "    </tr>\n",
       "  </tbody>\n",
       "</table>\n",
       "</div>"
      ],
      "text/plain": [
       "               lemma part_of_speech  \\\n",
       "2464             big      satellite   \n",
       "2470          bigger      satellite   \n",
       "5370       defective      satellite   \n",
       "7907          forged      satellite   \n",
       "9202       high-risk      satellite   \n",
       "15667      regretful      adjective   \n",
       "16014          risky      satellite   \n",
       "17645          sorry      adjective   \n",
       "17781    speculative      satellite   \n",
       "17875        spoiled      satellite   \n",
       "17877         spoilt      satellite   \n",
       "19407          tough      satellite   \n",
       "20012  uncollectible      satellite   \n",
       "20297          unfit      satellite   \n",
       "20839        unsound      satellite   \n",
       "21916          worse      adjective   \n",
       "21917          worse      satellite   \n",
       "21926          worst      adjective   \n",
       "21927          worst      satellite   \n",
       "22375          badly         adverb   \n",
       "\n",
       "                                                synonyms  number    stemmed  \\\n",
       "2464   bad|large;prominent|heavy|boastful;braggart;br...     NaN        big   \n",
       "2470   larger|big|bad;big|big|big;large;prominent|big...     NaN     bigger   \n",
       "5370                                          faulty|bad     NaN     defect   \n",
       "7907                                                 bad     NaN       forg   \n",
       "9202                               bad;risky;speculative     NaN  high-risk   \n",
       "15667                                          sorry;bad     NaN     regret   \n",
       "16014           hazardous;wild|bad;high-risk;speculative     NaN      riski   \n",
       "17645                                      regretful;bad     NaN      sorri   \n",
       "17781  bad;risky;high-risk|notional|inquisitive;quest...     NaN     specul   \n",
       "17875                                  spoilt|bad;spoilt     NaN      spoil   \n",
       "17877                       spoiled|bad;spoiled|blighted     NaN     spoilt   \n",
       "19407  rugged|sturdy|ruffianly|bad|hard|baffling;elus...     NaN      tough   \n",
       "20012                                                bad     NaN  uncollect   \n",
       "20297                                        bad;unsound     NaN      unfit   \n",
       "20839         fallacious|mentally ill;unstable|bad;unfit     NaN    unsound   \n",
       "21916                   worsened|bad|regretful;sorry;bad     NaN       wors   \n",
       "21917  bad;big|bad;tough|bad;spoiled;spoilt|bad;uncol...     NaN       wors   \n",
       "21926                            bad|regretful;sorry;bad     NaN      worst   \n",
       "21927  bad;big|bad;tough|bad;spoiled;spoilt|bad;uncol...     NaN      worst   \n",
       "22375  severely;gravely;seriously|ill;poorly|mischiev...     NaN      badli   \n",
       "\n",
       "                                                   split  \n",
       "2464   [bad, large, prominent, heavy, boastful, bragg...  \n",
       "2470   [larger, big, bad, big, big, big, large, promi...  \n",
       "5370                                       [faulty, bad]  \n",
       "7907                                               [bad]  \n",
       "9202                           [bad, risky, speculative]  \n",
       "15667                                       [sorry, bad]  \n",
       "16014     [hazardous, wild, bad, high-risk, speculative]  \n",
       "17645                                   [regretful, bad]  \n",
       "17781  [bad, risky, high-risk, notional, inquisitive,...  \n",
       "17875                              [spoilt, bad, spoilt]  \n",
       "17877                  [spoiled, bad, spoiled, blighted]  \n",
       "19407  [rugged, sturdy, ruffianly, bad, hard, bafflin...  \n",
       "20012                                              [bad]  \n",
       "20297                                     [bad, unsound]  \n",
       "20839   [fallacious, mentally ill, unstable, bad, unfit]  \n",
       "21916             [worsened, bad, regretful, sorry, bad]  \n",
       "21917  [bad, big, bad, tough, bad, spoiled, spoilt, b...  \n",
       "21926                       [bad, regretful, sorry, bad]  \n",
       "21927  [bad, big, bad, tough, bad, spoiled, spoilt, b...  \n",
       "22375  [severely, gravely, seriously, ill, poorly, mi...  "
      ]
     },
     "execution_count": 93,
     "metadata": {},
     "output_type": "execute_result"
    }
   ],
   "source": [
    "with_syns[with_syns.split.apply(lambda x: \"bad\" in x)]"
   ]
  },
  {
   "cell_type": "code",
   "execution_count": 114,
   "metadata": {},
   "outputs": [],
   "source": [
    "pairs = []\n",
    "\n",
    "for lem in no_stops[\"lemma\"]:\n",
    "    \n",
    "    if with_syns[with_syns.split.apply(lambda x: lem in x)].shape[0] > 0:\n",
    "        \n",
    "        for comp_lem in with_syns[with_syns.split.apply(lambda x: lem in x)][\"lemma\"]:\n",
    "            if lem != comp_lem:\n",
    "                comp_pair = [lem, comp_lem]\n",
    "                pairs.append(comp_pair)"
   ]
  },
  {
   "cell_type": "code",
   "execution_count": 115,
   "metadata": {},
   "outputs": [
    {
     "data": {
      "text/plain": [
       "245308"
      ]
     },
     "execution_count": 115,
     "metadata": {},
     "output_type": "execute_result"
    }
   ],
   "source": [
    "len(pairs)\n",
    "# 367754 with numbers included\n",
    "# 367024 without numbers v1\n",
    "# 250440 after stemming\n",
    "# 245308 with no numbers as words"
   ]
  },
  {
   "cell_type": "code",
   "execution_count": 116,
   "metadata": {},
   "outputs": [],
   "source": [
    "np_pairs = np.array(pairs)\n",
    "edges_raw = pd.DataFrame(np_pairs)"
   ]
  },
  {
   "cell_type": "code",
   "execution_count": 117,
   "metadata": {},
   "outputs": [
    {
     "data": {
      "text/plain": [
       "(245308, 2)"
      ]
     },
     "execution_count": 117,
     "metadata": {},
     "output_type": "execute_result"
    }
   ],
   "source": [
    "edges_raw.shape"
   ]
  },
  {
   "cell_type": "markdown",
   "metadata": {},
   "source": [
    "Now that all pairs are in a dataframe must get rid of duplicates."
   ]
  },
  {
   "cell_type": "code",
   "execution_count": 119,
   "metadata": {},
   "outputs": [],
   "source": [
    "df1 = pd.DataFrame(np.sort(edges_raw[[0,1]], axis=1))\n",
    "\n",
    "edges_raw1 = edges_raw[~df1.duplicated()]"
   ]
  },
  {
   "cell_type": "code",
   "execution_count": 130,
   "metadata": {},
   "outputs": [
    {
     "data": {
      "text/plain": [
       "(46872,)"
      ]
     },
     "execution_count": 130,
     "metadata": {},
     "output_type": "execute_result"
    }
   ],
   "source": [
    "edges_raw1[0].unique().shape"
   ]
  },
  {
   "cell_type": "code",
   "execution_count": 131,
   "metadata": {},
   "outputs": [
    {
     "data": {
      "text/html": [
       "<div>\n",
       "<style scoped>\n",
       "    .dataframe tbody tr th:only-of-type {\n",
       "        vertical-align: middle;\n",
       "    }\n",
       "\n",
       "    .dataframe tbody tr th {\n",
       "        vertical-align: top;\n",
       "    }\n",
       "\n",
       "    .dataframe thead th {\n",
       "        text-align: right;\n",
       "    }\n",
       "</style>\n",
       "<table border=\"1\" class=\"dataframe\">\n",
       "  <thead>\n",
       "    <tr style=\"text-align: right;\">\n",
       "      <th></th>\n",
       "      <th>0</th>\n",
       "      <th>1</th>\n",
       "    </tr>\n",
       "  </thead>\n",
       "  <tbody>\n",
       "    <tr>\n",
       "      <td>0</td>\n",
       "      <td>.22-caliber</td>\n",
       "      <td>.22-calibre</td>\n",
       "    </tr>\n",
       "    <tr>\n",
       "      <td>1</td>\n",
       "      <td>.22-caliber</td>\n",
       "      <td>.22 caliber</td>\n",
       "    </tr>\n",
       "    <tr>\n",
       "      <td>2</td>\n",
       "      <td>.22-caliber</td>\n",
       "      <td>.22 calibre</td>\n",
       "    </tr>\n",
       "    <tr>\n",
       "      <td>4</td>\n",
       "      <td>.22-calibre</td>\n",
       "      <td>.22 caliber</td>\n",
       "    </tr>\n",
       "    <tr>\n",
       "      <td>5</td>\n",
       "      <td>.22-calibre</td>\n",
       "      <td>.22 calibre</td>\n",
       "    </tr>\n",
       "  </tbody>\n",
       "</table>\n",
       "</div>"
      ],
      "text/plain": [
       "             0            1\n",
       "0  .22-caliber  .22-calibre\n",
       "1  .22-caliber  .22 caliber\n",
       "2  .22-caliber  .22 calibre\n",
       "4  .22-calibre  .22 caliber\n",
       "5  .22-calibre  .22 calibre"
      ]
     },
     "execution_count": 131,
     "metadata": {},
     "output_type": "execute_result"
    }
   ],
   "source": [
    "edges_raw1.head()"
   ]
  },
  {
   "cell_type": "code",
   "execution_count": 135,
   "metadata": {},
   "outputs": [
    {
     "name": "stderr",
     "output_type": "stream",
     "text": [
      "C:\\Users\\Vass\\Anaconda3\\lib\\site-packages\\pandas\\core\\frame.py:4223: SettingWithCopyWarning: \n",
      "A value is trying to be set on a copy of a slice from a DataFrame\n",
      "\n",
      "See the caveats in the documentation: http://pandas.pydata.org/pandas-docs/stable/user_guide/indexing.html#returning-a-view-versus-a-copy\n",
      "  return super().rename(**kwargs)\n"
     ]
    }
   ],
   "source": [
    "edges_raw1.rename(columns={0:\"Source\",1:\"Target\"},inplace=True)\n",
    "edges_raw1.to_csv(\"edges.csv\",index=False)"
   ]
  },
  {
   "cell_type": "code",
   "execution_count": 125,
   "metadata": {},
   "outputs": [],
   "source": [
    "# Convert columns into list of tuples\n",
    "tup_edges = list(zip(edges_raw1[0], edges_raw1[1]))\n",
    "\n",
    "# list of nodes and associated connections\n",
    "edges = [t for t in (set(tuple(i) for i in tup_edges))]"
   ]
  },
  {
   "cell_type": "code",
   "execution_count": 127,
   "metadata": {},
   "outputs": [],
   "source": [
    "# create networkx graph\n",
    "Gx = nx.Graph()\n",
    "Gx.add_edges_from(edges)\n"
   ]
  },
  {
   "cell_type": "code",
   "execution_count": 129,
   "metadata": {},
   "outputs": [
    {
     "name": "stdout",
     "output_type": "stream",
     "text": [
      "75253\n",
      "116131\n"
     ]
    }
   ],
   "source": [
    "print(len(Gx.nodes))\n",
    "\n",
    "print(len(Gx.edges))"
   ]
  },
  {
   "cell_type": "code",
   "execution_count": 10,
   "metadata": {},
   "outputs": [
    {
     "ename": "SyntaxError",
     "evalue": "invalid syntax (<ipython-input-10-be1d9a5ab270>, line 1)",
     "output_type": "error",
     "traceback": [
      "\u001b[1;36m  File \u001b[1;32m\"<ipython-input-10-be1d9a5ab270>\"\u001b[1;36m, line \u001b[1;32m1\u001b[0m\n\u001b[1;33m    df[\"lemma\"].apply(lambda x: x if x in stopwords)\u001b[0m\n\u001b[1;37m                                                   ^\u001b[0m\n\u001b[1;31mSyntaxError\u001b[0m\u001b[1;31m:\u001b[0m invalid syntax\n"
     ]
    }
   ],
   "source": [
    "df[\"lemma\"].apply(lambda x: x if x in stopwords)"
   ]
  },
  {
   "cell_type": "code",
   "execution_count": 17,
   "metadata": {},
   "outputs": [],
   "source": [
    "stops = stopwords.words('english')"
   ]
  },
  {
   "cell_type": "code",
   "execution_count": 24,
   "metadata": {},
   "outputs": [],
   "source": [
    "hmmm = df[df[\"lemma\"].apply(lambda x: (x in list(STOPWORDS) or x in stops))==True]"
   ]
  },
  {
   "cell_type": "code",
   "execution_count": 25,
   "metadata": {},
   "outputs": [
    {
     "data": {
      "text/html": [
       "<div>\n",
       "<style scoped>\n",
       "    .dataframe tbody tr th:only-of-type {\n",
       "        vertical-align: middle;\n",
       "    }\n",
       "\n",
       "    .dataframe tbody tr th {\n",
       "        vertical-align: top;\n",
       "    }\n",
       "\n",
       "    .dataframe thead th {\n",
       "        text-align: right;\n",
       "    }\n",
       "</style>\n",
       "<table border=\"1\" class=\"dataframe\">\n",
       "  <thead>\n",
       "    <tr style=\"text-align: right;\">\n",
       "      <th></th>\n",
       "      <th>lemma</th>\n",
       "      <th>part_of_speech</th>\n",
       "      <th>synonyms</th>\n",
       "    </tr>\n",
       "  </thead>\n",
       "  <tbody>\n",
       "    <tr>\n",
       "      <th>24708</th>\n",
       "      <td>a</td>\n",
       "      <td>noun</td>\n",
       "      <td>angstrom;angstrom unit;A|vitamin A;antiophthal...</td>\n",
       "    </tr>\n",
       "    <tr>\n",
       "      <th>328</th>\n",
       "      <td>about</td>\n",
       "      <td>satellite</td>\n",
       "      <td>astir</td>\n",
       "    </tr>\n",
       "    <tr>\n",
       "      <th>329</th>\n",
       "      <td>about</td>\n",
       "      <td>adverb</td>\n",
       "      <td>approximately;close to;just about;some;roughly...</td>\n",
       "    </tr>\n",
       "    <tr>\n",
       "      <th>330</th>\n",
       "      <td>above</td>\n",
       "      <td>adverb</td>\n",
       "      <td>supra|higher up;in a higher place;to a higher ...</td>\n",
       "    </tr>\n",
       "    <tr>\n",
       "      <th>740</th>\n",
       "      <td>after</td>\n",
       "      <td>adverb</td>\n",
       "      <td>subsequently;later;afterwards;afterward;later on</td>\n",
       "    </tr>\n",
       "    <tr>\n",
       "      <th>...</th>\n",
       "      <td>...</td>\n",
       "      <td>...</td>\n",
       "      <td>...</td>\n",
       "    </tr>\n",
       "    <tr>\n",
       "      <th>119208</th>\n",
       "      <td>will</td>\n",
       "      <td>verb</td>\n",
       "      <td>bequeath;leave</td>\n",
       "    </tr>\n",
       "    <tr>\n",
       "      <th>21848</th>\n",
       "      <td>won</td>\n",
       "      <td>noun</td>\n",
       "      <td>South Korean won|North Korean won</td>\n",
       "    </tr>\n",
       "    <tr>\n",
       "      <th>21849</th>\n",
       "      <td>won</td>\n",
       "      <td>verb</td>\n",
       "      <td>win|acquire;win;gain|gain;advance;win;pull ahe...</td>\n",
       "    </tr>\n",
       "    <tr>\n",
       "      <th>120177</th>\n",
       "      <td>www</td>\n",
       "      <td>noun</td>\n",
       "      <td>World Wide Web;WWW;web</td>\n",
       "    </tr>\n",
       "    <tr>\n",
       "      <th>120329</th>\n",
       "      <td>y</td>\n",
       "      <td>noun</td>\n",
       "      <td>yttrium;Y;atomic number 39|Y;wye</td>\n",
       "    </tr>\n",
       "  </tbody>\n",
       "</table>\n",
       "<p>131 rows × 3 columns</p>\n",
       "</div>"
      ],
      "text/plain": [
       "        lemma part_of_speech  \\\n",
       "24708       a           noun   \n",
       "328     about      satellite   \n",
       "329     about         adverb   \n",
       "330     above         adverb   \n",
       "740     after         adverb   \n",
       "...       ...            ...   \n",
       "119208   will           verb   \n",
       "21848     won           noun   \n",
       "21849     won           verb   \n",
       "120177    www           noun   \n",
       "120329      y           noun   \n",
       "\n",
       "                                                 synonyms  \n",
       "24708   angstrom;angstrom unit;A|vitamin A;antiophthal...  \n",
       "328                                                 astir  \n",
       "329     approximately;close to;just about;some;roughly...  \n",
       "330     supra|higher up;in a higher place;to a higher ...  \n",
       "740      subsequently;later;afterwards;afterward;later on  \n",
       "...                                                   ...  \n",
       "119208                                     bequeath;leave  \n",
       "21848                   South Korean won|North Korean won  \n",
       "21849   win|acquire;win;gain|gain;advance;win;pull ahe...  \n",
       "120177                             World Wide Web;WWW;web  \n",
       "120329                   yttrium;Y;atomic number 39|Y;wye  \n",
       "\n",
       "[131 rows x 3 columns]"
      ]
     },
     "execution_count": 25,
     "metadata": {},
     "output_type": "execute_result"
    }
   ],
   "source": [
    "hmmm.sort_values(by=\"lemma\")"
   ]
  },
  {
   "cell_type": "code",
   "execution_count": null,
   "metadata": {},
   "outputs": [],
   "source": []
  }
 ],
 "metadata": {
  "kernelspec": {
   "display_name": "Python 3",
   "language": "python",
   "name": "python3"
  },
  "language_info": {
   "codemirror_mode": {
    "name": "ipython",
    "version": 3
   },
   "file_extension": ".py",
   "mimetype": "text/x-python",
   "name": "python",
   "nbconvert_exporter": "python",
   "pygments_lexer": "ipython3",
   "version": "3.7.4"
  }
 },
 "nbformat": 4,
 "nbformat_minor": 2
}
